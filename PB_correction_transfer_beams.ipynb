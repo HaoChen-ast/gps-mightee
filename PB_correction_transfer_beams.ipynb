{
 "cells": [
  {
   "cell_type": "markdown",
   "metadata": {},
   "source": [
    "# Create a PB corrected cube and transfer beam table"
   ]
  },
  {
   "cell_type": "markdown",
   "metadata": {},
   "source": [
    "## Using Astropy"
   ]
  },
  {
   "cell_type": "code",
   "execution_count": 1,
   "metadata": {},
   "outputs": [],
   "source": [
    "from astropy.io import fits\n",
    "import numpy as np"
   ]
  },
  {
   "cell_type": "markdown",
   "metadata": {},
   "source": [
    "### Opening the fits files"
   ]
  },
  {
   "cell_type": "code",
   "execution_count": 2,
   "metadata": {},
   "outputs": [],
   "source": [
    "cube = '/idia/projects/mightee/mightee-hi/XMMLSS12/12/XMMLSS12_12.CORR.1310.ms.contsub.dirty.w128.image.u.piwimed.fits'\n",
    "pbcube = '/idia/projects/mightee/mightee-hi/XMMLSS12/12/XMMLSS12_12.CORR.1310.ms.contsub.dirty.w128.pb.u.e.fits'\n",
    "outfile = \"/idia/users/aycha/pbcorrected/XMMLSS12_12.CORR.1310.ms.contsub.dirty.w128.image.u.piwimed.pbcorr.u.e.fits\""
   ]
  },
  {
   "cell_type": "markdown",
   "metadata": {},
   "source": [
    "### PB correction"
   ]
  },
  {
   "cell_type": "code",
   "execution_count": 3,
   "metadata": {},
   "outputs": [
    {
     "name": "stdout",
     "output_type": "stream",
     "text": [
      "Filename: /idia/projects/mightee/mightee-hi/XMMLSS12/12/XMMLSS12_12.CORR.1310.ms.contsub.dirty.w128.image.u.piwimed.fits\n",
      "No.    Name      Ver    Type      Cards   Dimensions   Format\n",
      "  0  PRIMARY       1 PrimaryHDU     137   (4096, 4096, 96, 1)   float32   \n",
      "  1  BEAMS         1 BinTableHDU     30   96R x 5C   [1E, 1E, 1E, 1J, 1J]   \n",
      "None\n",
      "dim 4\n",
      "dim 4\n",
      "PB corrected cube created\n",
      "Filename: /idia/users/aycha/pbcorrected/XMMLSS12_12.CORR.1310.ms.contsub.dirty.w128.image.u.piwimed.pbcorr.u.e.fits\n",
      "No.    Name      Ver    Type      Cards   Dimensions   Format\n",
      "  0  PRIMARY       1 PrimaryHDU     135   (4096, 4096, 96, 1)   float32   \n",
      "  1  BEAMS         1 BinTableHDU     27   96R x 5C   [1E, 1E, 1E, 1J, 1J]   \n",
      "None\n"
     ]
    }
   ],
   "source": [
    "### Check the original data dimension \n",
    "hdulistout = fits.open(cube) #Opening fits file details: data + header\n",
    "fitsdat = fits.getdata(cube) #data only\n",
    "print(hdulistout.info())\n",
    "S = fitsdat.shape #Know the data shape\n",
    "if len(S) == 4:\n",
    "        print(\"dim 4\")\n",
    "        nc, nf, ny, nx = S\n",
    "        dim = 4\n",
    "elif len(S) == 2:\n",
    "        print(\"dim 2\")\n",
    "        ny, nx = S\n",
    "        dim = 2\n",
    "else:\n",
    "        raise(Exception, \"I don't know how to handle an image with this shape: \"+str(S))\n",
    "        \n",
    "### primary beam correction\n",
    "pbdat = fits.getdata(pbcube)\n",
    "pbcordat = fitsdat / pbdat #divide the image and the pb file\n",
    "\n",
    "### check the corrected data dimension\n",
    "pbS = pbcordat.shape\n",
    "if len(pbS) == 4:\n",
    "        print(\"dim 4\")\n",
    "        pbnc, pbnf, pbny, pbnx = pbS\n",
    "        ndim = 4\n",
    "elif len(pbS) == 2:\n",
    "        print(\"dim 2\")\n",
    "        pbny, pbnx = pbS\n",
    "        ndim = 2\n",
    "else:\n",
    "        raise(Exception, \"I don't know how to handle an image with this shape: \"+str(S))\n",
    "        \n",
    "### Check the two datasets dimension\n",
    "rescale = False\n",
    "if pbnx != nx:\n",
    "        rescale = True\n",
    "if pbny != ny:\n",
    "        rescale = True\n",
    "\n",
    "#take the beam table\n",
    "beam_table = hdulistout[1].data\n",
    "\n",
    "#create the fits file\n",
    "fits.writeto(outfile, pbcordat, header=hdulistout[0].header)\n",
    "fits.append(outfile,beam_table, header=hdulistout[1].header)\n",
    "print(\"PB corrected cube created\")\n",
    "print(fits.open(outfile).info())"
   ]
  },
  {
   "cell_type": "markdown",
   "metadata": {},
   "source": [
    "## Using SpectralCube\n",
    "\n",
    "* Advantages: less codes and shorter execution time if the primary beam of a specific detection is obtained.\n",
    "* Drawback: 1- Cannot run if the beam or one of the cubes does not have a beam information/table i.e is a SpectralCube rather than a VaryingResolutionSpectralCube unless we have to insert the PB unit as Jy/beam. So better if the PB is directly a VaryingResolutionSpectralCube.\n",
    "            2- Memory error if loading the entire cube"
   ]
  },
  {
   "cell_type": "code",
   "execution_count": 13,
   "metadata": {},
   "outputs": [],
   "source": [
    "from spectral_cube import SpectralCube\n",
    "import astropy.units as u"
   ]
  },
  {
   "cell_type": "code",
   "execution_count": 10,
   "metadata": {},
   "outputs": [
    {
     "name": "stderr",
     "output_type": "stream",
     "text": [
      "WARNING: StokesWarning: Cube is a Stokes cube, returning spectral cube for I component [spectral_cube.spectral_cube]\n",
      "WARNING: StokesWarning: Cube is a Stokes cube, returning spectral cube for I component [spectral_cube.spectral_cube]\n"
     ]
    }
   ],
   "source": [
    "cube = SpectralCube.read('/idia/users/aycha/FITS/XMMLSS12_highres.1380.UVSUB.N5UVCONTSUB.NOGRID.ms.CUBE.FITS')\n",
    "PB = SpectralCube.read('/idia/users/aycha/FITS/XMMLSS12_highres.1380.UVSUB.N5UVCONTSUB.NOGRID.ms.CUBE.pb.FITS')\n",
    "outfile2 = \"/idia/users/aycha/pbcorrected/XMMLSS12_highres.1380.UVSUB.N5UVCONTSUB.NOGRID.ms.CUBE.pbcorr_spectral_cube.FITS\""
   ]
  },
  {
   "cell_type": "code",
   "execution_count": 4,
   "metadata": {},
   "outputs": [
    {
     "data": {
      "text/plain": [
       "VaryingResolutionSpectralCube with shape=(239, 4096, 4096) and unit=Jy / beam:\n",
       " n_x:   4096  type_x: RA---SIN  unit_x: deg    range:    33.319000 deg:   35.606558 deg\n",
       " n_y:   4096  type_y: DEC--SIN  unit_y: deg    range:    -5.969952 deg:   -3.694804 deg\n",
       " n_s:    239  type_s: FREQ      unit_s: Hz     range: 1380142385.889 Hz:1429881012.152 Hz"
      ]
     },
     "execution_count": 4,
     "metadata": {},
     "output_type": "execute_result"
    }
   ],
   "source": [
    "cube"
   ]
  },
  {
   "cell_type": "code",
   "execution_count": 15,
   "metadata": {},
   "outputs": [
    {
     "data": {
      "text/plain": [
       "SpectralCube with shape=(239, 4096, 4096):\n",
       " n_x:   4096  type_x: RA---SIN  unit_x: deg    range:    33.319000 deg:   35.606558 deg\n",
       " n_y:   4096  type_y: DEC--SIN  unit_y: deg    range:    -5.969952 deg:   -3.694804 deg\n",
       " n_s:    239  type_s: FREQ      unit_s: Hz     range: 1380142385.889 Hz:1429881012.152 Hz"
      ]
     },
     "execution_count": 15,
     "metadata": {},
     "output_type": "execute_result"
    }
   ],
   "source": [
    "PB"
   ]
  },
  {
   "cell_type": "code",
   "execution_count": 30,
   "metadata": {},
   "outputs": [
    {
     "name": "stderr",
     "output_type": "stream",
     "text": [
      "WARNING: PossiblySlowWarning: This function (<function BaseSpectralCube._apply_everywhere at 0x7f1486abed08>) requires loading the entire cube into memory and may therefore be slow. [spectral_cube.utils]\n",
      "WARNING: PossiblySlowWarning: This function (<function BaseSpectralCube._apply_everywhere at 0x7f1486abed08>) requires loading the entire cube into memory and may therefore be slow. [spectral_cube.utils]\n"
     ]
    }
   ],
   "source": [
    "c1 = cube[:,500:600,500:600] #just a try because the cube is too big\n",
    "c2 = PB[:,500:600,500:600]*u.Jy/u.beam"
   ]
  },
  {
   "cell_type": "code",
   "execution_count": 31,
   "metadata": {},
   "outputs": [
    {
     "name": "stdout",
     "output_type": "stream",
     "text": [
      "VaryingResolutionSpectralCube with shape=(239, 100, 100) and unit=Jy / beam:\n",
      " n_x:    100  type_x: RA---SIN  unit_x: deg    range:    35.271439 deg:   35.326795 deg\n",
      " n_y:    100  type_y: DEC--SIN  unit_y: deg    range:    -5.692609 deg:   -5.637535 deg\n",
      " n_s:    239  type_s: FREQ      unit_s: Hz     range: 1380142385.889 Hz:1429881012.152 Hz\n"
     ]
    },
    {
     "name": "stderr",
     "output_type": "stream",
     "text": [
      "WARNING: PossiblySlowWarning: This function (<function BaseSpectralCube._cube_on_cube_operation at 0x7f1486abee18>) requires loading the entire cube into memory and may therefore be slow. [spectral_cube.utils]\n",
      "WARNING: PossiblySlowWarning: This function (<function BaseSpectralCube.to at 0x7f1486ac41e0>) requires loading the entire cube into memory and may therefore be slow. [spectral_cube.utils]\n",
      "WARNING: PossiblySlowWarning: This function (<function BaseSpectralCube._apply_everywhere at 0x7f1486abed08>) requires loading the entire cube into memory and may therefore be slow. [spectral_cube.utils]\n"
     ]
    }
   ],
   "source": [
    "cube.allow_huge_operations=True #if very big cube\n",
    "#cubePB=cube/PB\n",
    "cubePB = (c1/c2)*u.Jy/u.beam\n",
    "print(cubePB)\n",
    "#cubePB.write(outfile2, format='fits', overwrite='True')"
   ]
  },
  {
   "cell_type": "code",
   "execution_count": 32,
   "metadata": {},
   "outputs": [
    {
     "data": {
      "text/latex": [
       "Beam: BMAJ=$14.723814010620117^{''}$ BMIN=$9.666779518127441^{''}$ BPA=$55.3525390625^\\circ$"
      ],
      "text/plain": [
       "Beam: BMAJ=14.723814010620117 arcsec BMIN=9.666779518127441 arcsec BPA=55.3525390625 deg"
      ]
     },
     "execution_count": 32,
     "metadata": {},
     "output_type": "execute_result"
    }
   ],
   "source": [
    "cubePB.beams[0] #beam table copied"
   ]
  },
  {
   "cell_type": "code",
   "execution_count": 33,
   "metadata": {},
   "outputs": [
    {
     "name": "stderr",
     "output_type": "stream",
     "text": [
      "WARNING: PossiblySlowWarning: This function (<function BaseSpectralCube.sum at 0x7f1486ab7e18>) requires loading the entire cube into memory and may therefore be slow. [spectral_cube.utils]\n"
     ]
    },
    {
     "data": {
      "text/latex": [
       "$[-5485.2725,~24.929329,~59.780258,~\\dots,~{\\rm NaN},~{\\rm NaN},~{\\rm NaN}] \\; \\mathrm{\\frac{Jy}{beam}}$"
      ],
      "text/plain": [
       "<VaryingResolutionOneDSpectrum [-5.4852725e+03, 2.4929329e+01,\n",
       "                                 5.9780258e+01,-1.4296558e+02,\n",
       "                                -5.3425011e+01,-7.9354355e+01,\n",
       "                                 1.7329407e+01,-4.9593231e+01,\n",
       "                                -1.3045546e+01,-4.7221512e+01,\n",
       "                                 3.1453983e+01,-2.0162018e+01,\n",
       "                                 2.6663666e+00, 1.3889317e+01,\n",
       "                                 1.9919151e+01,-1.8864552e+01,\n",
       "                                -5.1947517e+01,-7.9612320e+01,\n",
       "                                 3.5350441e+01, 4.8707844e+01,\n",
       "                                 1.5042698e+01,-9.0473389e+01,\n",
       "                                 8.0213989e+01,-7.8889914e+00,\n",
       "                                 5.6284515e+01, 3.0106300e+01,\n",
       "                                -1.7971054e+01,-6.3978662e+00,\n",
       "                                 2.5532603e+00, 2.5726025e+01,\n",
       "                                 5.6783772e+01, 1.2349031e+01,\n",
       "                                -1.3851323e+01, 3.6675690e+01,\n",
       "                                -1.3852858e+01, 4.4989613e+01,\n",
       "                                -4.3523628e+01,-5.2407738e+01,\n",
       "                                -6.6684594e+00,-6.7429062e+01,\n",
       "                                -2.4524843e+01, 5.4071391e-01,\n",
       "                                -5.0325232e+00,-3.5504860e+01,\n",
       "                                -1.2524972e+01,-5.4502495e+01,\n",
       "                                 2.1719236e+00,-1.3122534e+01,\n",
       "                                -5.2840300e+00,-4.4370922e+01,\n",
       "                                -3.2492508e+01,-5.7439365e+00,\n",
       "                                 5.8193426e+00,-8.9168644e+00,\n",
       "                                -6.7764096e+00, 1.2229937e+01,\n",
       "                                 2.7946210e+00,-1.8225222e+00,\n",
       "                                 2.4309181e+01,-8.3570118e+00,\n",
       "                                 1.0879598e+01, 2.2400276e+01,\n",
       "                                -2.0181017e+01,-1.9327251e+01,\n",
       "                                 1.5823505e+01,-3.4688553e+01,\n",
       "                                -4.5294876e+00,-9.3080193e-01,\n",
       "                                -2.3397900e+01, 2.9991651e+00,\n",
       "                                -1.1050615e+01, 4.0687990e+00,\n",
       "                                -4.3873005e+00, 4.0219235e+00,\n",
       "                                -5.7811909e+00,-1.9584182e-01,\n",
       "                                -8.9628220e-01,-1.3146129e+00,\n",
       "                                 3.9674144e+00, 6.2790251e-01,\n",
       "                                 1.7277117e+00, 7.3027802e+00,\n",
       "                                 1.0253916e+01, 3.5445471e+00,\n",
       "                                 1.6605737e+00, 3.4952192e+00,\n",
       "                                 4.5291591e+00,-8.1891129e-03,\n",
       "                                 5.5615830e-01, 1.2100248e+00,\n",
       "                                           nan,           nan,\n",
       "                                           nan,           nan,\n",
       "                                           nan,           nan,\n",
       "                                           nan,           nan,\n",
       "                                           nan,           nan,\n",
       "                                           nan,           nan,\n",
       "                                           nan,           nan,\n",
       "                                           nan,           nan,\n",
       "                                           nan,           nan,\n",
       "                                           nan,           nan,\n",
       "                                           nan,           nan,\n",
       "                                           nan,           nan,\n",
       "                                           nan,           nan,\n",
       "                                           nan,           nan,\n",
       "                                           nan,           nan,\n",
       "                                           nan,           nan,\n",
       "                                           nan,           nan,\n",
       "                                           nan,           nan,\n",
       "                                           nan,           nan,\n",
       "                                           nan,           nan,\n",
       "                                           nan,           nan,\n",
       "                                           nan,           nan,\n",
       "                                           nan,           nan,\n",
       "                                           nan,           nan,\n",
       "                                           nan,           nan,\n",
       "                                           nan,           nan,\n",
       "                                           nan,           nan,\n",
       "                                           nan,           nan,\n",
       "                                           nan,           nan,\n",
       "                                           nan,           nan,\n",
       "                                           nan,           nan,\n",
       "                                           nan,           nan,\n",
       "                                           nan,           nan,\n",
       "                                           nan,           nan,\n",
       "                                           nan,           nan,\n",
       "                                           nan,           nan,\n",
       "                                           nan,           nan,\n",
       "                                           nan,           nan,\n",
       "                                           nan,           nan,\n",
       "                                           nan,           nan,\n",
       "                                           nan,           nan,\n",
       "                                           nan,           nan,\n",
       "                                           nan,           nan,\n",
       "                                           nan,           nan,\n",
       "                                           nan,           nan,\n",
       "                                           nan,           nan,\n",
       "                                           nan,           nan,\n",
       "                                           nan,           nan,\n",
       "                                           nan,           nan,\n",
       "                                           nan,           nan,\n",
       "                                           nan,           nan,\n",
       "                                           nan,           nan,\n",
       "                                           nan,           nan,\n",
       "                                           nan,           nan,\n",
       "                                           nan,           nan,\n",
       "                                           nan,           nan,\n",
       "                                           nan,           nan,\n",
       "                                           nan,           nan,\n",
       "                                           nan,           nan,\n",
       "                                           nan,           nan,\n",
       "                                           nan,           nan,\n",
       "                                           nan,           nan,\n",
       "                                           nan,           nan,\n",
       "                                           nan,           nan,\n",
       "                                           nan,           nan,\n",
       "                                           nan,           nan,\n",
       "                                           nan,           nan,\n",
       "                                           nan,           nan,\n",
       "                                           nan,           nan,\n",
       "                                           nan,           nan,\n",
       "                                           nan,           nan,\n",
       "                                           nan,           nan,\n",
       "                                           nan,           nan,\n",
       "                                           nan,           nan,\n",
       "                                           nan] Jy / beam>"
      ]
     },
     "execution_count": 33,
     "metadata": {},
     "output_type": "execute_result"
    }
   ],
   "source": [
    "cubePB.sum(axis=(1,2))"
   ]
  },
  {
   "cell_type": "code",
   "execution_count": null,
   "metadata": {},
   "outputs": [],
   "source": []
  }
 ],
 "metadata": {
  "kernelspec": {
   "display_name": "PY3",
   "language": "python",
   "name": "python3-cnt"
  },
  "language_info": {
   "codemirror_mode": {
    "name": "ipython",
    "version": 3
   },
   "file_extension": ".py",
   "mimetype": "text/x-python",
   "name": "python",
   "nbconvert_exporter": "python",
   "pygments_lexer": "ipython3",
   "version": "3.7.0"
  }
 },
 "nbformat": 4,
 "nbformat_minor": 4
}
